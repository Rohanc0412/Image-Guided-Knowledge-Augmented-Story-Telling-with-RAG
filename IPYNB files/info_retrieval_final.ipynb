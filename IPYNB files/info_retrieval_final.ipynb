{
 "cells": [
  {
   "cell_type": "markdown",
   "id": "b3c80496-ecfd-4ee7-871b-c43c4b04a28a",
   "metadata": {},
   "source": [
    "#### Import Statements"
   ]
  },
  {
   "cell_type": "code",
   "execution_count": 1,
   "id": "82ff73ad-b891-44f3-980e-88946a6c7bc9",
   "metadata": {},
   "outputs": [
    {
     "name": "stdout",
     "output_type": "stream",
     "text": [
      "WARNING:tensorflow:From C:\\Users\\rohan\\anaconda3\\envs\\llm_proj\\Lib\\site-packages\\tf_keras\\src\\losses.py:2976: The name tf.losses.sparse_softmax_cross_entropy is deprecated. Please use tf.compat.v1.losses.sparse_softmax_cross_entropy instead.\n",
      "\n"
     ]
    }
   ],
   "source": [
    "import os\n",
    "import numpy as np\n",
    "import requests\n",
    "import pinecone\n",
    "import re\n",
    "from bs4 import BeautifulSoup\n",
    "from pinecone import Pinecone, ServerlessSpec\n",
    "from sentence_transformers import SentenceTransformer\n",
    "from sklearn.metrics.pairwise import cosine_similarity"
   ]
  },
  {
   "cell_type": "code",
   "execution_count": null,
   "id": "714209f7-028d-4ccf-8941-084ee9733e90",
   "metadata": {},
   "outputs": [],
   "source": [
    "serpapi_api_key = \"your_api_key\"\n",
    "unwanted_keywords = [\n",
    "    \"Shop by\", \"Men's\", \"Women's\", \"Tops\", \"Bottoms\",\n",
    "    \"Sign up\", \"Subscribe\", \"Log in\", \"Create Account\",\n",
    "    \"Customer Service\", \"My Orders\", \"Track Order\"\n",
    "]\n",
    "\n",
    "unwanted_pattern = re.compile(\"|\".join(map(re.escape, unwanted_keywords)), re.IGNORECASE)"
   ]
  },
  {
   "cell_type": "markdown",
   "id": "0f95d77d-9dec-4852-9759-1d1dc2384348",
   "metadata": {},
   "source": [
    "#### Initializing Pinecone Index and Embedding Model "
   ]
  },
  {
   "cell_type": "code",
   "execution_count": null,
   "id": "2eb704c5-29f6-410e-94ae-ea5f3587f80c",
   "metadata": {},
   "outputs": [],
   "source": [
    "pinecone_api_key = \"your_api_key\"\n",
    "pinecone_region = \"us-east-1\"\n",
    "\n",
    "pc = Pinecone(api_key=pinecone_api_key)\n",
    "\n",
    "index_name = \"llm-proj\"\n",
    "index = pc.Index(index_name)\n",
    "embedding_model = SentenceTransformer('multi-qa-mpnet-base-cos-v1')\n",
    "dim = embedding_model.get_sentence_embedding_dimension()"
   ]
  },
  {
   "cell_type": "markdown",
   "id": "70efb80f-3f3a-41f1-aca6-deca96b2ea05",
   "metadata": {},
   "source": [
    "#### Vector Similarity Calculation Using Cosine Metric"
   ]
  },
  {
   "cell_type": "code",
   "execution_count": 4,
   "id": "3286ef60-59e5-452f-b2b9-34f3645c7da7",
   "metadata": {},
   "outputs": [],
   "source": [
    "def cosine_sim(a, b):\n",
    "    a = np.array(a).reshape(1, -1)\n",
    "    b = np.array(b).reshape(1, -1)\n",
    "    return cosine_similarity(a, b)[0][0]"
   ]
  },
  {
   "cell_type": "markdown",
   "id": "ac6d1a8f-05a0-4aa9-83cd-650e7cc08228",
   "metadata": {},
   "source": [
    "#### Retrieving Information from Pinecone Index"
   ]
  },
  {
   "cell_type": "code",
   "execution_count": 5,
   "id": "e410bda6-19c5-48b9-a093-ef55a49f26dc",
   "metadata": {},
   "outputs": [],
   "source": [
    "def retrieve_facts_from_vector_db(caption, embedding_model, index, threshold=0.5, top_k=5):\n",
    "    try:\n",
    "        caption_embedding = embedding_model.encode([caption])[0]\n",
    "        caption_embedding_np = np.array(caption_embedding, dtype=np.float32)\n",
    "\n",
    "        query_response = index.query(\n",
    "            vector=caption_embedding_np.tolist(),\n",
    "            top_k=top_k,\n",
    "            include_values=True,\n",
    "            include_metadata=True,\n",
    "        )\n",
    "\n",
    "        matches = query_response.get(\"matches\", [])\n",
    "\n",
    "        if not matches:\n",
    "            return None\n",
    "\n",
    "        filtered_matches = []\n",
    "        for match in matches:\n",
    "            db_vector = np.array(match[\"values\"], dtype=np.float32)\n",
    "            sim_score = cosine_sim(caption_embedding_np, db_vector)\n",
    "            print(\"sim_score : \", sim_score)\n",
    "\n",
    "            if sim_score >= threshold:\n",
    "                filtered_matches.append(match[\"metadata\"])\n",
    "\n",
    "        return filtered_matches if filtered_matches else None\n",
    "\n",
    "    except Exception as e:\n",
    "        print(\"Vector DB Error:\", e)\n",
    "        return None"
   ]
  },
  {
   "cell_type": "markdown",
   "id": "4616ed2a-5135-41d3-90af-a00f86e18956",
   "metadata": {},
   "source": [
    "#### Retrieving and Extracting Information Using Google + SerpAPI"
   ]
  },
  {
   "cell_type": "code",
   "execution_count": 6,
   "id": "29449114-03c0-4e01-97b8-ea5923ba28bb",
   "metadata": {},
   "outputs": [],
   "source": [
    "def extract_article_text(url, min_sentences=15):\n",
    "    try:\n",
    "        res = requests.get(url, timeout=10)\n",
    "        soup = BeautifulSoup(res.text, \"html.parser\")\n",
    "        main_content = None\n",
    "        for tag in ['article', 'main', 'div', 'section']:\n",
    "            main_content = soup.find(tag)\n",
    "            if main_content:\n",
    "                break\n",
    "        paragraphs = main_content.find_all(\"p\") if main_content else soup.find_all(\"p\")\n",
    "        clean_paragraphs = [\n",
    "                p.get_text().strip() for p in paragraphs\n",
    "                if len(p.get_text().strip()) > 40 and not unwanted_pattern.search(p.get_text())\n",
    "        ]\n",
    "        sentences = re.split(r'(?<=[.!?]) +', \" \".join(clean_paragraphs))\n",
    "        sentences = [s.strip() for s in sentences if len(s.strip()) > 40]\n",
    "        return \" \".join(sentences[:min_sentences]) if len(sentences) >= min_sentences else None\n",
    "    except Exception:\n",
    "        return None\n",
    "\n",
    "def get_facts_from_google(caption, serpapi_api_key, max_articles=3):\n",
    "    search_url = \"https://serpapi.com/search\"\n",
    "    params = {\n",
    "        \"q\": f\"real life event involving {caption.lower()}\",\n",
    "        \"hl\": \"en\",\n",
    "        \"gl\": \"us\",\n",
    "        \"api_key\": serpapi_api_key\n",
    "    }\n",
    "    try:\n",
    "        response = requests.get(search_url, params=params)\n",
    "        results = response.json()\n",
    "        if \"organic_results\" not in results:\n",
    "            return [\"No search results found.\"]\n",
    "\n",
    "        articles = []\n",
    "        for result in results[\"organic_results\"]:\n",
    "            url = result.get(\"link\")\n",
    "            if url:\n",
    "                article = extract_article_text(url)\n",
    "                if article:\n",
    "                    articles.append(article)\n",
    "                if len(articles) >= max_articles:\n",
    "                    break\n",
    "\n",
    "        return articles if articles else [\"Could not extract meaningful articles.\"]\n",
    "    except Exception as e:\n",
    "        print(\"Google Search Error:\", e)\n",
    "        return [\"Google search failed.\"]"
   ]
  },
  {
   "cell_type": "markdown",
   "id": "58e51b4b-5299-4097-8094-83876075751b",
   "metadata": {},
   "source": [
    "#### Sample Test Example"
   ]
  },
  {
   "cell_type": "code",
   "execution_count": 7,
   "id": "9114ac58-a39d-45c4-88ac-856103d0e06c",
   "metadata": {},
   "outputs": [
    {
     "name": "stdout",
     "output_type": "stream",
     "text": [
      "sim_score :  0.5078741\n",
      "sim_score :  0.50696284\n",
      "sim_score :  0.4546415\n",
      "sim_score :  0.3562833\n",
      "sim_score :  0.35320804\n",
      " Retrieved 2 fact(s) from vector DB.\n"
     ]
    }
   ],
   "source": [
    "caption = \"a man in a red jacket riding a small horse \"\n",
    "facts = retrieve_facts_from_vector_db(caption, embedding_model, index)\n",
    "if facts:\n",
    "    print(f\" Retrieved {len(facts)} fact(s) from vector DB.\")\n",
    "    summaries = [f['text'] if 'text' in f else str(f) for f in facts]\n",
    "else:\n",
    "    print(\" No facts found in vector DB. Falling back to Google search.\")\n",
    "    summaries = get_facts_from_google(caption, serpapi_api_key)"
   ]
  },
  {
   "cell_type": "code",
   "execution_count": 8,
   "id": "d782e631-e74b-46b5-9a78-d6a5f0779ce9",
   "metadata": {},
   "outputs": [
    {
     "name": "stdout",
     "output_type": "stream",
     "text": [
      "['{\\'caption\\': \\'An old man, wearing a black beret and a black and red jacket, rides a pony in a desolate mountain location.\\', \\'event_text\\': \\'n the mid-20th century, Australian horseman and writer Ern Pedler embarked on a remarkable solo journey across the vast and arid landscapes of the Australian Outback. Dressed in traditional riding attire, including a wide-brimmed hat and durable riding clothes, Pedler traversed the desolate terrains on horseback, documenting his experiences and the challenges faced in such a remote environment. His journey not only showcased his resilience and horsemanship but also highlighted the profound solitude and beauty of the Australian wilderness. Pedler\\\\\\'s writings, such as \"The Big Lonely Horse,\" provide a vivid account of his adventures and the deep bond formed with his horse during this expedition.\\', \\'event_type\\': \\'Event 1\\', \\'filename\\': \\'284105062.jpg\\', \\'img_id\\': 8845.0}', \"{'caption': 'An old man, wearing a black beret and a black and red jacket, rides a pony in a desolate mountain location.', 'event_text': 'In the Scottish Highlands, pony trekking has been a cherished tradition, allowing individuals to explore the rugged and remote landscapes on horseback. Elderly riders often participate in these treks, donning traditional attire such as berets and weather-resistant jackets to navigate the challenging terrains. These expeditions offer a unique blend of adventure and nostalgia, connecting riders with the rich cultural heritage of the region. For instance, a 95-year-old man was documented riding a horse, showcasing that age does not diminish the desire for exploration and connection with nature.', 'event_type': 'Event 2', 'filename': '284105062.jpg', 'img_id': 8845.0}\"]\n"
     ]
    }
   ],
   "source": [
    "print(summaries)"
   ]
  },
  {
   "cell_type": "code",
   "execution_count": null,
   "id": "245d60d1-ae14-4284-9f38-cd798bcb19d4",
   "metadata": {},
   "outputs": [],
   "source": []
  }
 ],
 "metadata": {
  "kernelspec": {
   "display_name": "LLM Env",
   "language": "python",
   "name": "llm_proj"
  },
  "language_info": {
   "codemirror_mode": {
    "name": "ipython",
    "version": 3
   },
   "file_extension": ".py",
   "mimetype": "text/x-python",
   "name": "python",
   "nbconvert_exporter": "python",
   "pygments_lexer": "ipython3",
   "version": "3.12.7"
  }
 },
 "nbformat": 4,
 "nbformat_minor": 5
}
