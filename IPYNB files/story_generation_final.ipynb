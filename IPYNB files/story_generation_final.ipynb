{
 "cells": [
  {
   "cell_type": "markdown",
   "id": "2a9f967b-f867-4d77-9ca6-5b7ee415336f",
   "metadata": {},
   "source": [
    "#### Story Generation"
   ]
  },
  {
   "cell_type": "code",
   "execution_count": null,
   "id": "bf6517db-c304-43fb-a679-158b656bcf5f",
   "metadata": {},
   "outputs": [],
   "source": [
    "from openai import OpenAI\n",
    "\n",
    "OPENAI_API_KEY = \"your_api_key\"\n",
    "client = OpenAI( api_key= OPENAI_API_KEY)\n",
    "\n",
    "def query_model(caption, summary):\n",
    "    messages = [\n",
    "        {\n",
    "            \"role\": \"system\",\n",
    "            \"content\": (\n",
    "                \"You are a storytelling AI. Create a highly detailed, elaborate, and comprehensive \"\n",
    "                \"fictional but fact-based story inspired by the given image caption and event summary. \"\n",
    "                \"If the factual background is 'No article found', you are free to draw on your own creative \"\n",
    "                \"insights and historical context. Compose a compelling story in three acts that includes extensive \"\n",
    "                \"character development, rich dialogue, vivid descriptions, and in-depth narrative details. \"\n",
    "                \"The story should be no less than 3000 characters in length.\"\n",
    "            )\n",
    "        },\n",
    "        {\n",
    "            \"role\": \"user\",\n",
    "            \"content\": (\n",
    "                f\"Image Caption: \\\"{caption}\\\"\\n\\n\"\n",
    "                f\"Factual Background: \\\"{summary}\\\"\\n\\n\"\n",
    "                \"Story:\"\n",
    "            )\n",
    "        },\n",
    "    ]\n",
    "\n",
    "    try:\n",
    "        response = client.chat.completions.create(\n",
    "            model=\"gpt-4o-mini\",\n",
    "            messages=messages,\n",
    "            max_completion_tokens=3000,\n",
    "            temperature=0.7,\n",
    "        )\n",
    "        \n",
    "        generated_text = response.choices[0].message.content\n",
    "    except Exception as e:\n",
    "        print(\"Error during story generation:\", e)\n",
    "        generated_text = \"Story generation failed.\"\n",
    "    \n",
    "    return generated_text"
   ]
  },
  {
   "cell_type": "code",
   "execution_count": 2,
   "id": "b46767c9-f3e1-419a-bae4-d6c29a08c808",
   "metadata": {},
   "outputs": [
    {
     "name": "stdout",
     "output_type": "stream",
     "text": [
      "**Title: \"The Big Lonely Horse\"**\n",
      "\n",
      "**Act 1: The Journey Begins**\n",
      "\n",
      "The sun hung low over the horizon, casting a golden hue across the barren landscape of the Australian Outback. Ern Pedler, a rugged man in his late thirties, stood beside his small horse, a sturdy chestnut mare named Ruby. Dressed in a vibrant red jacket that flapped gently in the warm breeze, he looked every bit the adventurous horseman he aspired to be. The wide-brimmed hat on his head cast a shadow over his deeply set eyes, which sparkled with a blend of determination and apprehension.\n",
      "\n",
      "“Ready, Ruby?” he murmured, reaching out to stroke her mane. The mare whinnied softly, as if in response, and Ern felt a surge of affection. Together, they would traverse the vast stretches of the Outback, a journey that would test both their limits.\n",
      "\n",
      "As Ern mounted Ruby, he took a moment to absorb the scene around him. The land stretched endlessly, dotted with rugged hills and scattered shrubs, the silence only broken by the distant call of a kookaburra. With a last glance at the small town he was leaving behind, he nudged Ruby forward, the journey of a lifetime beginning with a soft thud of hooves against the parched earth.\n",
      "\n",
      "Weeks slipped by, and Ern documented every moment in his leather-bound journal. He wrote about the biting heat of noon, the chill of night, and the ever-present companionship of Ruby. Each day brought new challenges; from navigating the arid terrain to foraging for water, Ern learned to read the land like a seasoned tracker. He recalled a particular day when they stumbled upon a small waterhole, its surface glistening like jewels under the midday sun.\n",
      "\n",
      "“Look at that, girl,” Ern said, dismounting and leading Ruby to the water. “A well-deserved treat!” He watched as she drank eagerly, and he couldn’t help but smile at the bond they were forging, a connection deeper than he had ever known.\n",
      "\n",
      "But solitude often weighed heavily on his heart. The vastness of the Outback, while breathtaking, also felt suffocating. On one particularly lonely evening, as he settled down by a crackling campfire, Ern opened his journal and began to write.\n",
      "\n",
      "“The Outback is a paradox,” he penned. “It is both beautiful and cruel. It teaches me resilience, yet reminds me of my isolation. Ruby, my only companion, seems to sense my thoughts. She stands by, patient and loyal, as if she embodies the spirit of this land.”\n",
      "\n",
      "**Act 2: Trials and Tribulations**\n",
      "\n",
      "The following weeks brought unforeseen trials. A fierce storm blew through one night, the winds howling like wild beasts and the rain pelting down in sheets. Ern had to tie Ruby securely to a nearby tree to keep her from bolting. As the tempest raged, Ern huddled beneath a rocky outcrop, heart pounding in his chest.\n",
      "\n",
      "“Stay with me, Ruby,” he called out, his voice almost lost in the roar of the storm. “We’ll make it through this!”\n",
      "\n",
      "When dawn broke, the world was transformed. The storm had left behind a trail of destruction, and Ern found himself standing in a landscape he barely recognized. Trees were uprooted, and the ground was a muddy mess. It took hours to find Ruby, who was frightened but unharmed, trembling beneath the remnants of a fallen branch.\n",
      "\n",
      "“Thank goodness you’re okay!” Ern exclaimed, relief washing over him as he embraced her neck. “We’re a pair, aren’t we? We’ll face this together.”\n",
      "\n",
      "As they pressed on, Ern encountered a group of traveling cattlemen. The men, rough around the edges but warm-hearted, welcomed him with open arms. They shared stories over a campfire and taught him survival skills that would prove invaluable. Ern felt a renewed sense of hope, a reminder that even in the vastness of the Outback, there were bonds to be formed.\n",
      "\n",
      "One evening, as they sat beneath a canopy of stars, Ern shared his dreams of writing about his journey.\n",
      "\n",
      "“I want people to feel what I feel out here,” he confessed, his voice soft. “To understand the beauty and the struggle.”\n",
      "\n",
      "One of the men, a grizzled fellow named Jack, leaned forward. “You’re living a story, Ern. Don’t just write about it—let it flow through you. This land has a way of speaking if you listen close enough.”\n",
      "\n",
      "Inspired, Ern returned to his writing with fervor. His journal entries became vivid accounts of the land and its inhabitants, a tapestry woven from his experiences. Each word brought him closer to his goal, and with Ruby by his side, he felt he could conquer anything.\n",
      "\n",
      "**Act 3: The Return Home**\n",
      "\n",
      "After months of traversing the Outback, Ern and Ruby made their way back toward civilization. The journey had transformed him; he was no longer just a man seeking adventure but a storyteller, a witness to the wonders and trials of the Australian wilderness. The bond he had formed with Ruby was unbreakable, forged in the fires of hardship and discovery.\n",
      "\n",
      "As they approached the familiar outskirts of his hometown, Ern felt a swell of emotion. He dismounted and led Ruby through the streets, the townsfolk staring in awe at the man in the red jacket and his small horse. Children rushed forward, eyes wide with excitement.\n",
      "\n",
      "“Is that really you, Ern?” one little girl asked, her voice filled with wonder. “Did you see the Outback?”\n",
      "\n",
      "“I did,” he replied, kneeling to meet her gaze. “And it’s as wild and beautiful as you can imagine. But remember, it’s also a lonely place. Cherish your friends and family, for they are what make life worth living.”\n",
      "\n",
      "As he recounted his tales, the world around him faded, replaced by the vivid imagery of his adventures. He spoke of the storms and the stars, of companionship and solitude, of the lessons learned from both the land and his loyal mare.\n",
      "\n",
      "In the weeks that followed, Ern published his writings, capturing the hearts of those who read them. “The Big Lonely Horse” became a testament not just to his journey but to the spirit of the Outback itself. Readers found solace in his words, echoing the very sentiments he had felt during his travels.\n",
      "\n",
      "In the quiet of his study, Ern often found himself looking out at the horizon, remembering the vastness of the Outback and the bond he had forged with Ruby. They had faced the wilderness together, and though the journey had ended, the spirit of adventure lived on in every word he wrote, every memory he cherished.\n",
      "\n",
      "And as for Ruby, she remained a constant presence, a steadfast companion who had taught Ern the true meaning of resilience and loyalty. Together, they had conquered the great unknown, and in doing so, they had discovered something far greater: a piece of themselves.\n"
     ]
    }
   ],
   "source": [
    "best_caption = \"a man in a red jacket riding a small horse\"\n",
    "article_summary = \"the mid-20th century, Australian horseman and writer Ern Pedler embarked on a remarkable solo journey across the vast and arid landscapes of the Australian Outback. Dressed in traditional riding attire, including a wide-brimmed hat and durable riding clothes, Pedler traversed the desolate terrains on horseback, documenting his experiences and the challenges faced in such a remote environment. His journey not only showcased his resilience and horsemanship but also highlighted the profound solitude and beauty of the Australian wilderness. Pedler\\'s writings, such as \\\"The Big Lonely Horse,\\\" provide a vivid account of his adventures and the deep bond formed with his horse during this expedition.\"\n",
    "generated_story = query_model(best_caption, article_summary)\n",
    "print(generated_story)"
   ]
  },
  {
   "cell_type": "code",
   "execution_count": null,
   "id": "fa44f444-23f0-4d8c-8662-df70f2e5a8ab",
   "metadata": {},
   "outputs": [],
   "source": []
  }
 ],
 "metadata": {
  "kernelspec": {
   "display_name": "LLM Env",
   "language": "python",
   "name": "llm_proj"
  },
  "language_info": {
   "codemirror_mode": {
    "name": "ipython",
    "version": 3
   },
   "file_extension": ".py",
   "mimetype": "text/x-python",
   "name": "python",
   "nbconvert_exporter": "python",
   "pygments_lexer": "ipython3",
   "version": "3.12.7"
  }
 },
 "nbformat": 4,
 "nbformat_minor": 5
}
